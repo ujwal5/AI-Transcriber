{
  "nbformat": 4,
  "nbformat_minor": 0,
  "metadata": {
    "colab": {
      "provenance": [],
      "gpuType": "T4",
      "include_colab_link": true
    },
    "kernelspec": {
      "name": "python3",
      "display_name": "Python 3"
    },
    "language_info": {
      "name": "python"
    },
    "accelerator": "GPU"
  },
  "cells": [
    {
      "cell_type": "markdown",
      "metadata": {
        "id": "view-in-github",
        "colab_type": "text"
      },
      "source": [
        "<a href=\"https://colab.research.google.com/github/ujwal5/Transcriber/blob/main/WhisperX_Project.ipynb\" target=\"_parent\"><img src=\"https://colab.research.google.com/assets/colab-badge.svg\" alt=\"Open In Colab\"/></a>"
      ]
    },
    {
      "cell_type": "code",
      "execution_count": null,
      "metadata": {
        "id": "CgOttoASFN_X"
      },
      "outputs": [],
      "source": [
        "# @title Transcriber\n",
        "  !pip install git+https://github.com/m-bain/whisperx.git\n",
        "!pip install pyannote.audio"
      ]
    },
    {
      "cell_type": "code",
      "source": [
        "import whisperx\n",
        "import gc"
      ],
      "metadata": {
        "id": "GlSXoizcG2q7"
      },
      "execution_count": null,
      "outputs": []
    },
    {
      "cell_type": "code",
      "source": [
        "class Transcriber:\n",
        "    def __init__(self):\n",
        "        self.device = \"cuda\"  # Set the device for processing (e.g., \"cuda\" for GPU)\n",
        "        self.batch_size = 16   # Set batch size for transcription (reduce if low on GPU memory)\n",
        "        self.compute_type = \"float16\"   # Set compute type for optimization (change to \"int8\" if low on GPU memory, may reduce accuracy)\n",
        "        self.model = whisperx.load_model(\"large-v2\", self.device, compute_type=self.compute_type) # Load the WhisperX model for transcription\n",
        "        self.diarize_model = whisperx.DiarizationPipeline(use_auth_token=\"ENTER YOUR TOKEN FROM HUGGING FACE \", device=self.device)  # Load the WhisperX diarization model\n",
        "\n",
        "    def get_transcribe_dict(self):\n",
        "        self.audio = whisperx.load_audio(self.audio_file)  # Load the audio file for transcription\n",
        "        self.result = self.model.transcribe(self.audio, batch_size=self.batch_size)   # Perform transcription using the loaded model\n",
        "        self.model_a, self.metadata = whisperx.load_align_model(language_code=self.result[\"language\"], device=self.device) # Load alignment model for further processing\n",
        "        self.result = whisperx.align(self.result[\"segments\"], self.model_a, self.metadata, self.audio, self.device, return_char_alignments=False)  # Align the transcription segments\n",
        "        self.diarize_segments = self.diarize_model(self.audio) # Perform speaker diarization on the audio\n",
        "        self.result = whisperx.assign_word_speakers(self.diarize_segments, self.result)  # Assign speakers to transcription segments\n",
        "\n",
        "\n",
        "        return self.result  # Return the transcribed result with speaker information\n",
        "\n",
        "\n",
        "\n",
        "\n"
      ],
      "metadata": {
        "id": "830fV-KYf1rG"
      },
      "execution_count": null,
      "outputs": []
    },
    {
      "cell_type": "code",
      "source": [
        "transcriber = Transcriber() # Create an instance of the Transcriber class and assign it to the variable \"transcriber\"\n"
      ],
      "metadata": {
        "id": "YIlJnDa2iM4O"
      },
      "execution_count": null,
      "outputs": []
    },
    {
      "cell_type": "code",
      "source": [
        "transcriber.audio_file = \"/content/Untitled.mp4\" # Set the path to the audio file for transcription\n",
        "result = transcriber.get_transcribe_dict() # Perform transcription and speaker diarization, and store the result in the \"result\" variable\n",
        "for item in result['segments']: # Iterate over each segment in the transcription result\n",
        "    print(item.get('text')) # Print the text content of the segment\n",
        "    print(item.get('speaker'))  # Print the speaker ID of the segment\n"
      ],
      "metadata": {
        "id": "1XfuY0JKiaho"
      },
      "execution_count": null,
      "outputs": []
    }
  ]
}